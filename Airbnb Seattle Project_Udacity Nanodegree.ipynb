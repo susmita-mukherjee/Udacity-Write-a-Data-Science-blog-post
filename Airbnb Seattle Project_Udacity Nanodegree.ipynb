{
 "cells": [
  {
   "cell_type": "markdown",
   "metadata": {},
   "source": [
    "# Seattle Airbnb Data Analysis"
   ]
  },
  {
   "cell_type": "markdown",
   "metadata": {},
   "source": [
    "As part of the Udacity data science nanodegree program, I will be analyzing the Airbnb Seattle dataset."
   ]
  },
  {
   "cell_type": "markdown",
   "metadata": {},
   "source": [
    "# 1. Business Understanding:\n",
    "\n",
    "Below are some of the questions which I will be trying to answer by end of the project:\n",
    "\n",
    "1. Does price have any seasonality effect?\n",
    "2. Does price fluctuate based on the day of the week (weekdays vs weekend)?\n",
    "3. Do certain amenities influence the price factor?"
   ]
  },
  {
   "cell_type": "markdown",
   "metadata": {},
   "source": [
    "# 2. Data Understanding: Load and validate the datasets"
   ]
  },
  {
   "cell_type": "markdown",
   "metadata": {},
   "source": [
    "### 2a. Loading datasets"
   ]
  },
  {
   "cell_type": "code",
   "execution_count": 1,
   "metadata": {},
   "outputs": [],
   "source": [
    "#importing the required packages\n",
    "import numpy as np\n",
    "import pandas as pd\n",
    "import warnings\n",
    "warnings.simplefilter(action='ignore', category=FutureWarning)\n",
    "import matplotlib.pyplot as plt\n",
    "from IPython import display\n",
    "%matplotlib inline"
   ]
  },
  {
   "cell_type": "code",
   "execution_count": 2,
   "metadata": {},
   "outputs": [],
   "source": [
    "#Importing the datasets\n",
    "calendar_df=pd.read_csv('calendar.csv')\n",
    "listing_df=pd.read_csv('listings.csv')\n",
    "review_df=pd.read_csv('reviews.csv')"
   ]
  },
  {
   "cell_type": "code",
   "execution_count": 3,
   "metadata": {},
   "outputs": [
    {
     "data": {
      "text/html": [
       "<div>\n",
       "<style scoped>\n",
       "    .dataframe tbody tr th:only-of-type {\n",
       "        vertical-align: middle;\n",
       "    }\n",
       "\n",
       "    .dataframe tbody tr th {\n",
       "        vertical-align: top;\n",
       "    }\n",
       "\n",
       "    .dataframe thead th {\n",
       "        text-align: right;\n",
       "    }\n",
       "</style>\n",
       "<table border=\"1\" class=\"dataframe\">\n",
       "  <thead>\n",
       "    <tr style=\"text-align: right;\">\n",
       "      <th></th>\n",
       "      <th>listing_id</th>\n",
       "      <th>date</th>\n",
       "      <th>available</th>\n",
       "      <th>price</th>\n",
       "    </tr>\n",
       "  </thead>\n",
       "  <tbody>\n",
       "    <tr>\n",
       "      <th>0</th>\n",
       "      <td>241032</td>\n",
       "      <td>2016-01-04</td>\n",
       "      <td>t</td>\n",
       "      <td>$85.00</td>\n",
       "    </tr>\n",
       "  </tbody>\n",
       "</table>\n",
       "</div>"
      ],
      "text/plain": [
       "   listing_id        date available   price\n",
       "0      241032  2016-01-04         t  $85.00"
      ]
     },
     "execution_count": 3,
     "metadata": {},
     "output_type": "execute_result"
    }
   ],
   "source": [
    "#Viewing the datasets\n",
    "calendar_df.head(1)"
   ]
  },
  {
   "cell_type": "code",
   "execution_count": 4,
   "metadata": {},
   "outputs": [
    {
     "data": {
      "text/html": [
       "<div>\n",
       "<style scoped>\n",
       "    .dataframe tbody tr th:only-of-type {\n",
       "        vertical-align: middle;\n",
       "    }\n",
       "\n",
       "    .dataframe tbody tr th {\n",
       "        vertical-align: top;\n",
       "    }\n",
       "\n",
       "    .dataframe thead th {\n",
       "        text-align: right;\n",
       "    }\n",
       "</style>\n",
       "<table border=\"1\" class=\"dataframe\">\n",
       "  <thead>\n",
       "    <tr style=\"text-align: right;\">\n",
       "      <th></th>\n",
       "      <th>id</th>\n",
       "      <th>listing_url</th>\n",
       "      <th>scrape_id</th>\n",
       "      <th>last_scraped</th>\n",
       "      <th>name</th>\n",
       "      <th>summary</th>\n",
       "      <th>space</th>\n",
       "      <th>description</th>\n",
       "      <th>experiences_offered</th>\n",
       "      <th>neighborhood_overview</th>\n",
       "      <th>...</th>\n",
       "      <th>review_scores_value</th>\n",
       "      <th>requires_license</th>\n",
       "      <th>license</th>\n",
       "      <th>jurisdiction_names</th>\n",
       "      <th>instant_bookable</th>\n",
       "      <th>cancellation_policy</th>\n",
       "      <th>require_guest_profile_picture</th>\n",
       "      <th>require_guest_phone_verification</th>\n",
       "      <th>calculated_host_listings_count</th>\n",
       "      <th>reviews_per_month</th>\n",
       "    </tr>\n",
       "  </thead>\n",
       "  <tbody>\n",
       "    <tr>\n",
       "      <th>0</th>\n",
       "      <td>241032</td>\n",
       "      <td>https://www.airbnb.com/rooms/241032</td>\n",
       "      <td>20160104002432</td>\n",
       "      <td>2016-01-04</td>\n",
       "      <td>Stylish Queen Anne Apartment</td>\n",
       "      <td>NaN</td>\n",
       "      <td>Make your self at home in this charming one-be...</td>\n",
       "      <td>Make your self at home in this charming one-be...</td>\n",
       "      <td>none</td>\n",
       "      <td>NaN</td>\n",
       "      <td>...</td>\n",
       "      <td>10.0</td>\n",
       "      <td>f</td>\n",
       "      <td>NaN</td>\n",
       "      <td>WASHINGTON</td>\n",
       "      <td>f</td>\n",
       "      <td>moderate</td>\n",
       "      <td>f</td>\n",
       "      <td>f</td>\n",
       "      <td>2</td>\n",
       "      <td>4.07</td>\n",
       "    </tr>\n",
       "  </tbody>\n",
       "</table>\n",
       "<p>1 rows × 92 columns</p>\n",
       "</div>"
      ],
      "text/plain": [
       "       id                          listing_url       scrape_id last_scraped  \\\n",
       "0  241032  https://www.airbnb.com/rooms/241032  20160104002432   2016-01-04   \n",
       "\n",
       "                           name summary  \\\n",
       "0  Stylish Queen Anne Apartment     NaN   \n",
       "\n",
       "                                               space  \\\n",
       "0  Make your self at home in this charming one-be...   \n",
       "\n",
       "                                         description experiences_offered  \\\n",
       "0  Make your self at home in this charming one-be...                none   \n",
       "\n",
       "  neighborhood_overview        ...        review_scores_value  \\\n",
       "0                   NaN        ...                       10.0   \n",
       "\n",
       "  requires_license license jurisdiction_names instant_bookable  \\\n",
       "0                f     NaN         WASHINGTON                f   \n",
       "\n",
       "  cancellation_policy  require_guest_profile_picture  \\\n",
       "0            moderate                              f   \n",
       "\n",
       "  require_guest_phone_verification calculated_host_listings_count  \\\n",
       "0                                f                              2   \n",
       "\n",
       "  reviews_per_month  \n",
       "0              4.07  \n",
       "\n",
       "[1 rows x 92 columns]"
      ]
     },
     "execution_count": 4,
     "metadata": {},
     "output_type": "execute_result"
    }
   ],
   "source": [
    "listing_df.head(1)"
   ]
  },
  {
   "cell_type": "code",
   "execution_count": 5,
   "metadata": {},
   "outputs": [
    {
     "data": {
      "text/html": [
       "<div>\n",
       "<style scoped>\n",
       "    .dataframe tbody tr th:only-of-type {\n",
       "        vertical-align: middle;\n",
       "    }\n",
       "\n",
       "    .dataframe tbody tr th {\n",
       "        vertical-align: top;\n",
       "    }\n",
       "\n",
       "    .dataframe thead th {\n",
       "        text-align: right;\n",
       "    }\n",
       "</style>\n",
       "<table border=\"1\" class=\"dataframe\">\n",
       "  <thead>\n",
       "    <tr style=\"text-align: right;\">\n",
       "      <th></th>\n",
       "      <th>listing_id</th>\n",
       "      <th>id</th>\n",
       "      <th>date</th>\n",
       "      <th>reviewer_id</th>\n",
       "      <th>reviewer_name</th>\n",
       "      <th>comments</th>\n",
       "    </tr>\n",
       "  </thead>\n",
       "  <tbody>\n",
       "    <tr>\n",
       "      <th>0</th>\n",
       "      <td>7202016</td>\n",
       "      <td>38917982</td>\n",
       "      <td>2015-07-19</td>\n",
       "      <td>28943674</td>\n",
       "      <td>Bianca</td>\n",
       "      <td>Cute and cozy place. Perfect location to every...</td>\n",
       "    </tr>\n",
       "  </tbody>\n",
       "</table>\n",
       "</div>"
      ],
      "text/plain": [
       "   listing_id        id        date  reviewer_id reviewer_name  \\\n",
       "0     7202016  38917982  2015-07-19     28943674        Bianca   \n",
       "\n",
       "                                            comments  \n",
       "0  Cute and cozy place. Perfect location to every...  "
      ]
     },
     "execution_count": 5,
     "metadata": {},
     "output_type": "execute_result"
    }
   ],
   "source": [
    "review_df.head(1)"
   ]
  },
  {
   "cell_type": "markdown",
   "metadata": {},
   "source": [
    "### 2b. Validating all the datasets"
   ]
  },
  {
   "cell_type": "code",
   "execution_count": 6,
   "metadata": {},
   "outputs": [
    {
     "name": "stdout",
     "output_type": "stream",
     "text": [
      "Number of rows and columns: (1393570, 4)\n",
      "---------------------------------------------------------------------------\n",
      "\n",
      "listing_id     int64\n",
      "date          object\n",
      "available     object\n",
      "price         object\n",
      "dtype: object\n",
      "---------------------------------------------------------------------------\n",
      "\n",
      "Count of unique listing id and date combinations 1393570\n",
      "---------------------------------------------------------------------------\n",
      "\n",
      "Percentage of Missing values: listing_id     0.000000\n",
      "date           0.000000\n",
      "available      0.000000\n",
      "price         32.938998\n",
      "dtype: float64\n",
      "---------------------------------------------------------------------------\n",
      "\n"
     ]
    }
   ],
   "source": [
    "#Validating the calendar dataset\n",
    "\n",
    "#Checking number of rows and columns\n",
    "print('Number of rows and columns:',calendar_df.shape)\n",
    "print('---------------------------------------------------------------------------')\n",
    "print()\n",
    "\n",
    "#Checking datatypes for columns present in calendar dataset\n",
    "print(calendar_df.dtypes)\n",
    "print('---------------------------------------------------------------------------')\n",
    "print()\n",
    "\n",
    "#Checking the primary key \n",
    "print('Count of unique listing id and date combinations', calendar_df.groupby(['listing_id', 'date']).ngroups)\n",
    "print('---------------------------------------------------------------------------')\n",
    "print()\n",
    "\n",
    "#Number of missing values\n",
    "print('Percentage of Missing values:',(calendar_df.isnull().sum()/len(calendar_df))*100)\n",
    "print('---------------------------------------------------------------------------')\n",
    "print()"
   ]
  },
  {
   "cell_type": "code",
   "execution_count": 7,
   "metadata": {},
   "outputs": [
    {
     "name": "stdout",
     "output_type": "stream",
     "text": [
      "Number of rows and columns: (3818, 92)\n",
      "---------------------------------------------------------------------------\n",
      "\n",
      "id                                    int64\n",
      "listing_url                          object\n",
      "scrape_id                             int64\n",
      "last_scraped                         object\n",
      "name                                 object\n",
      "summary                              object\n",
      "space                                object\n",
      "description                          object\n",
      "experiences_offered                  object\n",
      "neighborhood_overview                object\n",
      "notes                                object\n",
      "transit                              object\n",
      "thumbnail_url                        object\n",
      "medium_url                           object\n",
      "picture_url                          object\n",
      "xl_picture_url                       object\n",
      "host_id                               int64\n",
      "host_url                             object\n",
      "host_name                            object\n",
      "host_since                           object\n",
      "host_location                        object\n",
      "host_about                           object\n",
      "host_response_time                   object\n",
      "host_response_rate                   object\n",
      "host_acceptance_rate                 object\n",
      "host_is_superhost                    object\n",
      "host_thumbnail_url                   object\n",
      "host_picture_url                     object\n",
      "host_neighbourhood                   object\n",
      "host_listings_count                 float64\n",
      "                                     ...   \n",
      "guests_included                       int64\n",
      "extra_people                         object\n",
      "minimum_nights                        int64\n",
      "maximum_nights                        int64\n",
      "calendar_updated                     object\n",
      "has_availability                     object\n",
      "availability_30                       int64\n",
      "availability_60                       int64\n",
      "availability_90                       int64\n",
      "availability_365                      int64\n",
      "calendar_last_scraped                object\n",
      "number_of_reviews                     int64\n",
      "first_review                         object\n",
      "last_review                          object\n",
      "review_scores_rating                float64\n",
      "review_scores_accuracy              float64\n",
      "review_scores_cleanliness           float64\n",
      "review_scores_checkin               float64\n",
      "review_scores_communication         float64\n",
      "review_scores_location              float64\n",
      "review_scores_value                 float64\n",
      "requires_license                     object\n",
      "license                             float64\n",
      "jurisdiction_names                   object\n",
      "instant_bookable                     object\n",
      "cancellation_policy                  object\n",
      "require_guest_profile_picture        object\n",
      "require_guest_phone_verification     object\n",
      "calculated_host_listings_count        int64\n",
      "reviews_per_month                   float64\n",
      "Length: 92, dtype: object\n",
      "---------------------------------------------------------------------------\n",
      "\n",
      "Count of unique ids 3818\n",
      "---------------------------------------------------------------------------\n",
      "\n",
      "Percentage of Missing values: id                                    0.000000\n",
      "listing_url                           0.000000\n",
      "scrape_id                             0.000000\n",
      "last_scraped                          0.000000\n",
      "name                                  0.000000\n",
      "summary                               4.635935\n",
      "space                                14.903091\n",
      "description                           0.000000\n",
      "experiences_offered                   0.000000\n",
      "neighborhood_overview                27.029859\n",
      "notes                                42.063908\n",
      "transit                              24.463070\n",
      "thumbnail_url                         8.381351\n",
      "medium_url                            8.381351\n",
      "picture_url                           0.000000\n",
      "xl_picture_url                        8.381351\n",
      "host_id                               0.000000\n",
      "host_url                              0.000000\n",
      "host_name                             0.052383\n",
      "host_since                            0.052383\n",
      "host_location                         0.209534\n",
      "host_about                           22.498690\n",
      "host_response_time                   13.698271\n",
      "host_response_rate                   13.698271\n",
      "host_acceptance_rate                 20.246202\n",
      "host_is_superhost                     0.052383\n",
      "host_thumbnail_url                    0.052383\n",
      "host_picture_url                      0.052383\n",
      "host_neighbourhood                    7.857517\n",
      "host_listings_count                   0.052383\n",
      "                                       ...    \n",
      "guests_included                       0.000000\n",
      "extra_people                          0.000000\n",
      "minimum_nights                        0.000000\n",
      "maximum_nights                        0.000000\n",
      "calendar_updated                      0.000000\n",
      "has_availability                      0.000000\n",
      "availability_30                       0.000000\n",
      "availability_60                       0.000000\n",
      "availability_90                       0.000000\n",
      "availability_365                      0.000000\n",
      "calendar_last_scraped                 0.000000\n",
      "number_of_reviews                     0.000000\n",
      "first_review                         16.422211\n",
      "last_review                          16.422211\n",
      "review_scores_rating                 16.946045\n",
      "review_scores_accuracy               17.234154\n",
      "review_scores_cleanliness            17.103195\n",
      "review_scores_checkin                17.234154\n",
      "review_scores_communication          17.050812\n",
      "review_scores_location               17.155579\n",
      "review_scores_value                  17.181771\n",
      "requires_license                      0.000000\n",
      "license                             100.000000\n",
      "jurisdiction_names                    0.000000\n",
      "instant_bookable                      0.000000\n",
      "cancellation_policy                   0.000000\n",
      "require_guest_profile_picture         0.000000\n",
      "require_guest_phone_verification      0.000000\n",
      "calculated_host_listings_count        0.000000\n",
      "reviews_per_month                    16.422211\n",
      "Length: 92, dtype: float64\n",
      "---------------------------------------------------------------------------\n",
      "\n"
     ]
    }
   ],
   "source": [
    "#Validating the listing dataset\n",
    "\n",
    "#Checking number of rows and columns\n",
    "print('Number of rows and columns:',listing_df.shape)\n",
    "print('---------------------------------------------------------------------------')\n",
    "print()\n",
    "\n",
    "#Checking datatypes for columns present in listing dataset\n",
    "print(listing_df.dtypes)\n",
    "print('---------------------------------------------------------------------------')\n",
    "print()\n",
    "\n",
    "#Checking the primary key\n",
    "print('Count of unique ids', listing_df.groupby(['id']).ngroups)\n",
    "print('---------------------------------------------------------------------------')\n",
    "print()\n",
    "\n",
    "#Number of missing values\n",
    "print('Percentage of Missing values:',(listing_df.isnull().sum()/len(listing_df))*100)\n",
    "print('---------------------------------------------------------------------------')\n",
    "print()"
   ]
  },
  {
   "cell_type": "code",
   "execution_count": 8,
   "metadata": {},
   "outputs": [
    {
     "name": "stdout",
     "output_type": "stream",
     "text": [
      "Number of rows and columns: (84849, 6)\n",
      "---------------------------------------------------------------------------\n",
      "\n",
      "listing_id        int64\n",
      "id                int64\n",
      "date             object\n",
      "reviewer_id       int64\n",
      "reviewer_name    object\n",
      "comments         object\n",
      "dtype: object\n",
      "---------------------------------------------------------------------------\n",
      "\n",
      "Count of unique ids 84849\n",
      "---------------------------------------------------------------------------\n",
      "\n",
      "Percentage of Missing values: listing_id       0.000000\n",
      "id               0.000000\n",
      "date             0.000000\n",
      "reviewer_id      0.000000\n",
      "reviewer_name    0.000000\n",
      "comments         0.021214\n",
      "dtype: float64\n",
      "---------------------------------------------------------------------------\n",
      "\n"
     ]
    }
   ],
   "source": [
    "#Validating the Reviews dataset\n",
    "\n",
    "#Checking number of rows and columns\n",
    "print('Number of rows and columns:',review_df.shape)\n",
    "print('---------------------------------------------------------------------------')\n",
    "print()\n",
    "\n",
    "#Checking datatypes for columns present in Reviews dataset\n",
    "print(review_df.dtypes)\n",
    "print('---------------------------------------------------------------------------')\n",
    "print()\n",
    "\n",
    "#Checking the primary key\n",
    "print('Count of unique ids', review_df.groupby(['id']).ngroups)\n",
    "print('---------------------------------------------------------------------------')\n",
    "print()\n",
    "\n",
    "#Number of missing values\n",
    "print('Percentage of Missing values:',(review_df.isnull().sum()/len(review_df))*100)\n",
    "print('---------------------------------------------------------------------------')\n",
    "print()"
   ]
  },
  {
   "cell_type": "markdown",
   "metadata": {},
   "source": [
    "# 3. Data Processing:"
   ]
  },
  {
   "cell_type": "code",
   "execution_count": 9,
   "metadata": {},
   "outputs": [],
   "source": [
    "#Removing special characters such as dollar sign and commas\n",
    "def remove_signs(dataset, column):\n",
    "    dataset[column] = dataset[column].str.replace('$','').str.replace(',','');\n",
    "#Converting some fields to numeric type\n",
    "def convert_to_numeric(dataset, column):\n",
    "    dataset[column] = pd.to_numeric(dataset[column]);\n",
    "#Transforming some fields to boolean\n",
    "def convert_to_boolean(dataset, column):\n",
    "    dataset[column] = dataset[column] == 't'"
   ]
  },
  {
   "cell_type": "code",
   "execution_count": 10,
   "metadata": {},
   "outputs": [
    {
     "data": {
      "text/html": [
       "<div>\n",
       "<style scoped>\n",
       "    .dataframe tbody tr th:only-of-type {\n",
       "        vertical-align: middle;\n",
       "    }\n",
       "\n",
       "    .dataframe tbody tr th {\n",
       "        vertical-align: top;\n",
       "    }\n",
       "\n",
       "    .dataframe thead th {\n",
       "        text-align: right;\n",
       "    }\n",
       "</style>\n",
       "<table border=\"1\" class=\"dataframe\">\n",
       "  <thead>\n",
       "    <tr style=\"text-align: right;\">\n",
       "      <th></th>\n",
       "      <th>listing_id</th>\n",
       "      <th>date</th>\n",
       "      <th>available</th>\n",
       "      <th>price</th>\n",
       "    </tr>\n",
       "  </thead>\n",
       "  <tbody>\n",
       "    <tr>\n",
       "      <th>0</th>\n",
       "      <td>241032</td>\n",
       "      <td>2016-01-04</td>\n",
       "      <td>True</td>\n",
       "      <td>85.0</td>\n",
       "    </tr>\n",
       "  </tbody>\n",
       "</table>\n",
       "</div>"
      ],
      "text/plain": [
       "   listing_id        date  available  price\n",
       "0      241032  2016-01-04       True   85.0"
      ]
     },
     "execution_count": 10,
     "metadata": {},
     "output_type": "execute_result"
    }
   ],
   "source": [
    "#Treating the fields by removing special characters and converting to suitable data type\n",
    "remove_signs(calendar_df, 'price')\n",
    "convert_to_numeric(calendar_df, 'price')\n",
    "convert_to_boolean(calendar_df, 'available')\n",
    "remove_signs(listing_df, 'price')\n",
    "convert_to_numeric(listing_df, 'price')\n",
    "calendar_df.head(1)"
   ]
  },
  {
   "cell_type": "code",
   "execution_count": 11,
   "metadata": {},
   "outputs": [
    {
     "data": {
      "text/plain": [
       "array([False])"
      ]
     },
     "execution_count": 11,
     "metadata": {},
     "output_type": "execute_result"
    }
   ],
   "source": [
    "#Replacing the missing price values with 0\n",
    "calendar_df[\"price\"].fillna(0, inplace=True)\n",
    "listing_df[\"price\"].fillna(0, inplace=True)\n",
    "calendar_df[calendar_df['price']==0].available.unique()"
   ]
  },
  {
   "cell_type": "code",
   "execution_count": 12,
   "metadata": {},
   "outputs": [
    {
     "name": "stdout",
     "output_type": "stream",
     "text": [
      "True\n",
      "1\n"
     ]
    }
   ],
   "source": [
    "#scrape_id field contains same value across all records, hence, removing this field\n",
    "#host_listings_count and host_total_listings_count columns are identical so eliminating one of them\n",
    "print(listing_df['host_listings_count'].equals(listing_df['host_total_listings_count']))\n",
    "print(listing_df['scrape_id'].nunique())\n",
    "listing_df.drop(['scrape_id', 'host_listings_count'], axis=1, inplace=True)"
   ]
  },
  {
   "cell_type": "code",
   "execution_count": 13,
   "metadata": {},
   "outputs": [
    {
     "name": "stdout",
     "output_type": "stream",
     "text": [
      " Date range for all the listings:  2016-01-04 to  2017-01-02\n"
     ]
    }
   ],
   "source": [
    "#Looking at the date range present in the data\n",
    "print(\" Date range for all the listings: \",calendar_df['date'].min(),\"to \", calendar_df['date'].max())"
   ]
  },
  {
   "cell_type": "code",
   "execution_count": 14,
   "metadata": {},
   "outputs": [],
   "source": [
    "#Processing date column and extracting month from it\n",
    "calendar_df['date_updated'] = pd.to_datetime(calendar_df['date'])\n",
    "calendar_df['month']=calendar_df['date_updated'].dt.month"
   ]
  },
  {
   "cell_type": "code",
   "execution_count": 15,
   "metadata": {},
   "outputs": [
    {
     "name": "stdout",
     "output_type": "stream",
     "text": [
      "List of categorical variables Index(['date'], dtype='object')\n",
      "List of quantitative variables Index(['listing_id', 'price', 'month'], dtype='object')\n"
     ]
    }
   ],
   "source": [
    "#Identify all the categorical features in calendar table\n",
    "print(\"List of categorical variables\", calendar_df.select_dtypes(include=\"object\").columns)\n",
    "\n",
    "#Identify all the quantitative features in calendar table\n",
    "print(\"List of quantitative variables\", calendar_df.select_dtypes(include=(\"float64\",\"int64\")).columns)"
   ]
  },
  {
   "cell_type": "code",
   "execution_count": 16,
   "metadata": {},
   "outputs": [
    {
     "name": "stdout",
     "output_type": "stream",
     "text": [
      "List of categorical variables Index(['listing_url', 'last_scraped', 'name', 'summary', 'space',\n",
      "       'description', 'experiences_offered', 'neighborhood_overview', 'notes',\n",
      "       'transit', 'thumbnail_url', 'medium_url', 'picture_url',\n",
      "       'xl_picture_url', 'host_url', 'host_name', 'host_since',\n",
      "       'host_location', 'host_about', 'host_response_time',\n",
      "       'host_response_rate', 'host_acceptance_rate', 'host_is_superhost',\n",
      "       'host_thumbnail_url', 'host_picture_url', 'host_neighbourhood',\n",
      "       'host_verifications', 'host_has_profile_pic', 'host_identity_verified',\n",
      "       'street', 'neighbourhood', 'neighbourhood_cleansed',\n",
      "       'neighbourhood_group_cleansed', 'city', 'state', 'zipcode', 'market',\n",
      "       'smart_location', 'country_code', 'country', 'is_location_exact',\n",
      "       'property_type', 'room_type', 'bed_type', 'amenities', 'weekly_price',\n",
      "       'monthly_price', 'security_deposit', 'cleaning_fee', 'extra_people',\n",
      "       'calendar_updated', 'has_availability', 'calendar_last_scraped',\n",
      "       'first_review', 'last_review', 'requires_license', 'jurisdiction_names',\n",
      "       'instant_bookable', 'cancellation_policy',\n",
      "       'require_guest_profile_picture', 'require_guest_phone_verification'],\n",
      "      dtype='object')\n",
      "List of quantitative variables Index(['id', 'host_id', 'host_total_listings_count', 'latitude', 'longitude',\n",
      "       'accommodates', 'bathrooms', 'bedrooms', 'beds', 'square_feet', 'price',\n",
      "       'guests_included', 'minimum_nights', 'maximum_nights',\n",
      "       'availability_30', 'availability_60', 'availability_90',\n",
      "       'availability_365', 'number_of_reviews', 'review_scores_rating',\n",
      "       'review_scores_accuracy', 'review_scores_cleanliness',\n",
      "       'review_scores_checkin', 'review_scores_communication',\n",
      "       'review_scores_location', 'review_scores_value', 'license',\n",
      "       'calculated_host_listings_count', 'reviews_per_month'],\n",
      "      dtype='object')\n"
     ]
    }
   ],
   "source": [
    "#Identify all the categorical variables in listing table\n",
    "print(\"List of categorical variables\", listing_df.select_dtypes(include=\"object\").columns)\n",
    "\n",
    "#Identify all the quantitative variables in listing table\n",
    "print(\"List of quantitative variables\", listing_df.select_dtypes(include=(\"float64\",\"int64\")).columns)"
   ]
  },
  {
   "cell_type": "code",
   "execution_count": 17,
   "metadata": {},
   "outputs": [
    {
     "name": "stdout",
     "output_type": "stream",
     "text": [
      "List of categorical variables Index(['date', 'reviewer_name', 'comments'], dtype='object')\n",
      "List of quantitative variables Index(['listing_id', 'id', 'reviewer_id'], dtype='object')\n"
     ]
    }
   ],
   "source": [
    "#Identify all the categorical variables in review table\n",
    "print(\"List of categorical variables\", review_df.select_dtypes(include=\"object\").columns)\n",
    "\n",
    "#Identify all the quantitative variables in review table\n",
    "print(\"List of quantitative variables\", review_df.select_dtypes(include=(\"float64\",\"int64\")).columns)"
   ]
  },
  {
   "cell_type": "markdown",
   "metadata": {},
   "source": [
    "# 4. Performing EDA on the datasets"
   ]
  },
  {
   "cell_type": "markdown",
   "metadata": {},
   "source": [
    "<h3> Calendar Dataset:"
   ]
  },
  {
   "cell_type": "code",
   "execution_count": 18,
   "metadata": {},
   "outputs": [
    {
     "name": "stdout",
     "output_type": "stream",
     "text": [
      "Sum of all prices throughout the year: $ 128915264.0\n"
     ]
    }
   ],
   "source": [
    "#Calculating the sum of all prices charged so far\n",
    "total_amount=np.sum(calendar_df[\"price\"])\n",
    "print(\"Sum of all prices throughout the year: $\",total_amount)"
   ]
  },
  {
   "cell_type": "code",
   "execution_count": 19,
   "metadata": {},
   "outputs": [
    {
     "name": "stdout",
     "output_type": "stream",
     "text": [
      "month\n",
      "1     114540\n",
      "2     110722\n",
      "3     118358\n",
      "4     114540\n",
      "5     118358\n",
      "6     114540\n",
      "7     118358\n",
      "8     118358\n",
      "9     114540\n",
      "10    118358\n",
      "11    114540\n",
      "12    118358\n",
      "Name: price, dtype: int64\n"
     ]
    }
   ],
   "source": [
    "#Evaluating the sum of prices charged at month level\n",
    "monthly_bookings=pd.DataFrame(columns=['Number of bookings'])\n",
    "monthly_bookings=calendar_df.groupby('month')['price'].count()\n",
    "print(monthly_bookings)"
   ]
  },
  {
   "cell_type": "code",
   "execution_count": 20,
   "metadata": {},
   "outputs": [
    {
     "name": "stdout",
     "output_type": "stream",
     "text": [
      "Average earning per listing: $ 33765.0\n"
     ]
    }
   ],
   "source": [
    "#Average listing price for the whole year\n",
    "avg_price=total_amount/calendar_df['listing_id'].nunique()  \n",
    "print(\"Average earning per listing: $\",round(avg_price,0))"
   ]
  },
  {
   "cell_type": "code",
   "execution_count": 21,
   "metadata": {},
   "outputs": [
    {
     "name": "stdout",
     "output_type": "stream",
     "text": [
      "Average price charged per listing: $ 93.0\n",
      "Median price charged per listing: $ 75.0\n"
     ]
    }
   ],
   "source": [
    "#Median amount charged per listing\n",
    "print(\"Average price charged per listing: $\", round(calendar_df['price'].mean(),0))\n",
    "#Average price per listing \n",
    "print(\"Median price charged per listing: $\", round(calendar_df['price'].median(),0))"
   ]
  },
  {
   "cell_type": "code",
   "execution_count": 22,
   "metadata": {},
   "outputs": [
    {
     "name": "stdout",
     "output_type": "stream",
     "text": [
      "Average price for top 5 most expensive listings: $ 950.0\n"
     ]
    }
   ],
   "source": [
    "#Average amount charged per listing\n",
    "mean_price_listing=calendar_df.groupby('listing_id')['price'].mean()\n",
    "#Median amount charged for the top 5 listings\n",
    "print(\"Average price for top 5 most expensive listings: $\",round(mean_price_listing.nlargest(5).median(),0))"
   ]
  },
  {
   "cell_type": "code",
   "execution_count": 23,
   "metadata": {},
   "outputs": [
    {
     "name": "stdout",
     "output_type": "stream",
     "text": [
      "Listings avaialbility throughout the year: available\n",
      "False    33.0\n",
      "True     67.0\n",
      "Name: listing_id, dtype: float64\n"
     ]
    }
   ],
   "source": [
    "#Checking listing availability\n",
    "listing_availability=(calendar_df.groupby('available')['listing_id'].count()/calendar_df.shape[0])*100\n",
    "print(\"Listings avaialbility throughout the year:\", round(listing_availability,0))"
   ]
  },
  {
   "cell_type": "code",
   "execution_count": 24,
   "metadata": {},
   "outputs": [
    {
     "data": {
      "text/html": [
       "<div>\n",
       "<style scoped>\n",
       "    .dataframe tbody tr th:only-of-type {\n",
       "        vertical-align: middle;\n",
       "    }\n",
       "\n",
       "    .dataframe tbody tr th {\n",
       "        vertical-align: top;\n",
       "    }\n",
       "\n",
       "    .dataframe thead tr th {\n",
       "        text-align: left;\n",
       "    }\n",
       "</style>\n",
       "<table border=\"1\" class=\"dataframe\">\n",
       "  <thead>\n",
       "    <tr>\n",
       "      <th></th>\n",
       "      <th>month</th>\n",
       "      <th colspan=\"2\" halign=\"left\">price</th>\n",
       "    </tr>\n",
       "    <tr>\n",
       "      <th></th>\n",
       "      <th></th>\n",
       "      <th>mean</th>\n",
       "      <th>median</th>\n",
       "    </tr>\n",
       "  </thead>\n",
       "  <tbody>\n",
       "    <tr>\n",
       "      <th>0</th>\n",
       "      <td>1</td>\n",
       "      <td>69.7</td>\n",
       "      <td>55.0</td>\n",
       "    </tr>\n",
       "    <tr>\n",
       "      <th>1</th>\n",
       "      <td>2</td>\n",
       "      <td>82.3</td>\n",
       "      <td>70.0</td>\n",
       "    </tr>\n",
       "    <tr>\n",
       "      <th>2</th>\n",
       "      <td>3</td>\n",
       "      <td>91.2</td>\n",
       "      <td>79.0</td>\n",
       "    </tr>\n",
       "    <tr>\n",
       "      <th>3</th>\n",
       "      <td>4</td>\n",
       "      <td>89.7</td>\n",
       "      <td>75.0</td>\n",
       "    </tr>\n",
       "    <tr>\n",
       "      <th>4</th>\n",
       "      <td>5</td>\n",
       "      <td>94.3</td>\n",
       "      <td>78.0</td>\n",
       "    </tr>\n",
       "    <tr>\n",
       "      <th>5</th>\n",
       "      <td>6</td>\n",
       "      <td>99.5</td>\n",
       "      <td>79.0</td>\n",
       "    </tr>\n",
       "    <tr>\n",
       "      <th>6</th>\n",
       "      <td>7</td>\n",
       "      <td>95.4</td>\n",
       "      <td>70.0</td>\n",
       "    </tr>\n",
       "    <tr>\n",
       "      <th>7</th>\n",
       "      <td>8</td>\n",
       "      <td>97.2</td>\n",
       "      <td>75.0</td>\n",
       "    </tr>\n",
       "    <tr>\n",
       "      <th>8</th>\n",
       "      <td>9</td>\n",
       "      <td>96.6</td>\n",
       "      <td>79.0</td>\n",
       "    </tr>\n",
       "    <tr>\n",
       "      <th>9</th>\n",
       "      <td>10</td>\n",
       "      <td>95.4</td>\n",
       "      <td>80.0</td>\n",
       "    </tr>\n",
       "    <tr>\n",
       "      <th>10</th>\n",
       "      <td>11</td>\n",
       "      <td>96.9</td>\n",
       "      <td>80.0</td>\n",
       "    </tr>\n",
       "    <tr>\n",
       "      <th>11</th>\n",
       "      <td>12</td>\n",
       "      <td>101.0</td>\n",
       "      <td>85.0</td>\n",
       "    </tr>\n",
       "  </tbody>\n",
       "</table>\n",
       "</div>"
      ],
      "text/plain": [
       "   month  price       \n",
       "           mean median\n",
       "0      1   69.7   55.0\n",
       "1      2   82.3   70.0\n",
       "2      3   91.2   79.0\n",
       "3      4   89.7   75.0\n",
       "4      5   94.3   78.0\n",
       "5      6   99.5   79.0\n",
       "6      7   95.4   70.0\n",
       "7      8   97.2   75.0\n",
       "8      9   96.6   79.0\n",
       "9     10   95.4   80.0\n",
       "10    11   96.9   80.0\n",
       "11    12  101.0   85.0"
      ]
     },
     "execution_count": 24,
     "metadata": {},
     "output_type": "execute_result"
    }
   ],
   "source": [
    "#Average Price charged per month\n",
    "calendar_df.groupby('month').agg({'price':['mean', 'median']}).round(1).reset_index()"
   ]
  },
  {
   "cell_type": "code",
   "execution_count": 25,
   "metadata": {},
   "outputs": [
    {
     "data": {
      "text/plain": [
       "Text(0,0.5,'Median Price at month level')"
      ]
     },
     "execution_count": 25,
     "metadata": {},
     "output_type": "execute_result"
    },
    {
     "data": {
      "image/png": "[encoded data removed]",
      "text/plain": [
       "<Figure size 432x288 with 1 Axes>"
      ]
     },
     "metadata": {
      "needs_background": "light"
     },
     "output_type": "display_data"
    }
   ],
   "source": [
    "monthly_price=calendar_df.groupby('month')['price'].median().plot()\n",
    "plt.ylabel('Median Price at month level')"
   ]
  },
  {
   "cell_type": "markdown",
   "metadata": {},
   "source": [
    "<h3> Listing Dataset:"
   ]
  },
  {
   "cell_type": "code",
   "execution_count": 26,
   "metadata": {},
   "outputs": [
    {
     "data": {
      "text/plain": [
       "within an hour        1692\n",
       "within a few hours     968\n",
       "within a day           597\n",
       "a few days or more      38\n",
       "Name: host_response_time, dtype: int64"
      ]
     },
     "execution_count": 26,
     "metadata": {},
     "output_type": "execute_result"
    }
   ],
   "source": [
    "#Aggregated data by host response time\n",
    "listing_df['host_response_time'].value_counts()"
   ]
  },
  {
   "cell_type": "code",
   "execution_count": 27,
   "metadata": {
    "scrolled": true
   },
   "outputs": [
    {
     "data": {
      "text/html": [
       "<div>\n",
       "<style scoped>\n",
       "    .dataframe tbody tr th:only-of-type {\n",
       "        vertical-align: middle;\n",
       "    }\n",
       "\n",
       "    .dataframe tbody tr th {\n",
       "        vertical-align: top;\n",
       "    }\n",
       "\n",
       "    .dataframe thead th {\n",
       "        text-align: right;\n",
       "    }\n",
       "</style>\n",
       "<table border=\"1\" class=\"dataframe\">\n",
       "  <thead>\n",
       "    <tr style=\"text-align: right;\">\n",
       "      <th></th>\n",
       "      <th>review_scores_rating</th>\n",
       "      <th>review_scores_accuracy</th>\n",
       "      <th>review_scores_cleanliness</th>\n",
       "      <th>review_scores_checkin</th>\n",
       "      <th>review_scores_communication</th>\n",
       "      <th>review_scores_location</th>\n",
       "      <th>review_scores_value</th>\n",
       "      <th>price</th>\n",
       "    </tr>\n",
       "  </thead>\n",
       "  <tbody>\n",
       "    <tr>\n",
       "      <th>review_scores_rating</th>\n",
       "      <td>1.000000</td>\n",
       "      <td>0.621257</td>\n",
       "      <td>0.642882</td>\n",
       "      <td>0.521813</td>\n",
       "      <td>0.540620</td>\n",
       "      <td>0.368423</td>\n",
       "      <td>0.696534</td>\n",
       "      <td>0.055551</td>\n",
       "    </tr>\n",
       "    <tr>\n",
       "      <th>review_scores_accuracy</th>\n",
       "      <td>0.621257</td>\n",
       "      <td>1.000000</td>\n",
       "      <td>0.543345</td>\n",
       "      <td>0.407238</td>\n",
       "      <td>0.423189</td>\n",
       "      <td>0.267605</td>\n",
       "      <td>0.562878</td>\n",
       "      <td>0.019026</td>\n",
       "    </tr>\n",
       "    <tr>\n",
       "      <th>review_scores_cleanliness</th>\n",
       "      <td>0.642882</td>\n",
       "      <td>0.543345</td>\n",
       "      <td>1.000000</td>\n",
       "      <td>0.398696</td>\n",
       "      <td>0.388146</td>\n",
       "      <td>0.277834</td>\n",
       "      <td>0.524354</td>\n",
       "      <td>0.054357</td>\n",
       "    </tr>\n",
       "    <tr>\n",
       "      <th>review_scores_checkin</th>\n",
       "      <td>0.521813</td>\n",
       "      <td>0.407238</td>\n",
       "      <td>0.398696</td>\n",
       "      <td>1.000000</td>\n",
       "      <td>0.696345</td>\n",
       "      <td>0.240903</td>\n",
       "      <td>0.403263</td>\n",
       "      <td>0.007877</td>\n",
       "    </tr>\n",
       "    <tr>\n",
       "      <th>review_scores_communication</th>\n",
       "      <td>0.540620</td>\n",
       "      <td>0.423189</td>\n",
       "      <td>0.388146</td>\n",
       "      <td>0.696345</td>\n",
       "      <td>1.000000</td>\n",
       "      <td>0.284635</td>\n",
       "      <td>0.463772</td>\n",
       "      <td>0.012990</td>\n",
       "    </tr>\n",
       "    <tr>\n",
       "      <th>review_scores_location</th>\n",
       "      <td>0.368423</td>\n",
       "      <td>0.267605</td>\n",
       "      <td>0.277834</td>\n",
       "      <td>0.240903</td>\n",
       "      <td>0.284635</td>\n",
       "      <td>1.000000</td>\n",
       "      <td>0.368252</td>\n",
       "      <td>0.075069</td>\n",
       "    </tr>\n",
       "    <tr>\n",
       "      <th>review_scores_value</th>\n",
       "      <td>0.696534</td>\n",
       "      <td>0.562878</td>\n",
       "      <td>0.524354</td>\n",
       "      <td>0.403263</td>\n",
       "      <td>0.463772</td>\n",
       "      <td>0.368252</td>\n",
       "      <td>1.000000</td>\n",
       "      <td>-0.041776</td>\n",
       "    </tr>\n",
       "    <tr>\n",
       "      <th>price</th>\n",
       "      <td>0.055551</td>\n",
       "      <td>0.019026</td>\n",
       "      <td>0.054357</td>\n",
       "      <td>0.007877</td>\n",
       "      <td>0.012990</td>\n",
       "      <td>0.075069</td>\n",
       "      <td>-0.041776</td>\n",
       "      <td>1.000000</td>\n",
       "    </tr>\n",
       "  </tbody>\n",
       "</table>\n",
       "</div>"
      ],
      "text/plain": [
       "                             review_scores_rating  review_scores_accuracy  \\\n",
       "review_scores_rating                     1.000000                0.621257   \n",
       "review_scores_accuracy                   0.621257                1.000000   \n",
       "review_scores_cleanliness                0.642882                0.543345   \n",
       "review_scores_checkin                    0.521813                0.407238   \n",
       "review_scores_communication              0.540620                0.423189   \n",
       "review_scores_location                   0.368423                0.267605   \n",
       "review_scores_value                      0.696534                0.562878   \n",
       "price                                    0.055551                0.019026   \n",
       "\n",
       "                             review_scores_cleanliness  review_scores_checkin  \\\n",
       "review_scores_rating                          0.642882               0.521813   \n",
       "review_scores_accuracy                        0.543345               0.407238   \n",
       "review_scores_cleanliness                     1.000000               0.398696   \n",
       "review_scores_checkin                         0.398696               1.000000   \n",
       "review_scores_communication                   0.388146               0.696345   \n",
       "review_scores_location                        0.277834               0.240903   \n",
       "review_scores_value                           0.524354               0.403263   \n",
       "price                                         0.054357               0.007877   \n",
       "\n",
       "                             review_scores_communication  \\\n",
       "review_scores_rating                            0.540620   \n",
       "review_scores_accuracy                          0.423189   \n",
       "review_scores_cleanliness                       0.388146   \n",
       "review_scores_checkin                           0.696345   \n",
       "review_scores_communication                     1.000000   \n",
       "review_scores_location                          0.284635   \n",
       "review_scores_value                             0.463772   \n",
       "price                                           0.012990   \n",
       "\n",
       "                             review_scores_location  review_scores_value  \\\n",
       "review_scores_rating                       0.368423             0.696534   \n",
       "review_scores_accuracy                     0.267605             0.562878   \n",
       "review_scores_cleanliness                  0.277834             0.524354   \n",
       "review_scores_checkin                      0.240903             0.403263   \n",
       "review_scores_communication                0.284635             0.463772   \n",
       "review_scores_location                     1.000000             0.368252   \n",
       "review_scores_value                        0.368252             1.000000   \n",
       "price                                      0.075069            -0.041776   \n",
       "\n",
       "                                price  \n",
       "review_scores_rating         0.055551  \n",
       "review_scores_accuracy       0.019026  \n",
       "review_scores_cleanliness    0.054357  \n",
       "review_scores_checkin        0.007877  \n",
       "review_scores_communication  0.012990  \n",
       "review_scores_location       0.075069  \n",
       "review_scores_value         -0.041776  \n",
       "price                        1.000000  "
      ]
     },
     "execution_count": 27,
     "metadata": {},
     "output_type": "execute_result"
    }
   ],
   "source": [
    "#create a table with ratings scores and find out correlation between them\n",
    "listing_review_df=listing_df[['review_scores_rating',\n",
    "       'review_scores_accuracy', 'review_scores_cleanliness',\n",
    "       'review_scores_checkin', 'review_scores_communication',\n",
    "       'review_scores_location', 'review_scores_value','price']]\n",
    "\n",
    "corr_ratings=listing_review_df.corr()\n",
    "corr_ratings"
   ]
  },
  {
   "cell_type": "code",
   "execution_count": 28,
   "metadata": {},
   "outputs": [
    {
     "data": {
      "text/html": [
       "<div>\n",
       "<style scoped>\n",
       "    .dataframe tbody tr th:only-of-type {\n",
       "        vertical-align: middle;\n",
       "    }\n",
       "\n",
       "    .dataframe tbody tr th {\n",
       "        vertical-align: top;\n",
       "    }\n",
       "\n",
       "    .dataframe thead th {\n",
       "        text-align: right;\n",
       "    }\n",
       "</style>\n",
       "<table border=\"1\" class=\"dataframe\">\n",
       "  <thead>\n",
       "    <tr style=\"text-align: right;\">\n",
       "      <th></th>\n",
       "      <th>bathrooms</th>\n",
       "      <th>bedrooms</th>\n",
       "      <th>beds</th>\n",
       "      <th>guests_included</th>\n",
       "      <th>minimum_nights</th>\n",
       "      <th>maximum_nights</th>\n",
       "      <th>price</th>\n",
       "    </tr>\n",
       "  </thead>\n",
       "  <tbody>\n",
       "    <tr>\n",
       "      <th>bathrooms</th>\n",
       "      <td>1.000000</td>\n",
       "      <td>0.610937</td>\n",
       "      <td>0.532838</td>\n",
       "      <td>0.304780</td>\n",
       "      <td>0.006358</td>\n",
       "      <td>-0.015322</td>\n",
       "      <td>0.516424</td>\n",
       "    </tr>\n",
       "    <tr>\n",
       "      <th>bedrooms</th>\n",
       "      <td>0.610937</td>\n",
       "      <td>1.000000</td>\n",
       "      <td>0.753167</td>\n",
       "      <td>0.457009</td>\n",
       "      <td>0.011957</td>\n",
       "      <td>-0.008591</td>\n",
       "      <td>0.627720</td>\n",
       "    </tr>\n",
       "    <tr>\n",
       "      <th>beds</th>\n",
       "      <td>0.532838</td>\n",
       "      <td>0.753167</td>\n",
       "      <td>1.000000</td>\n",
       "      <td>0.460512</td>\n",
       "      <td>0.002670</td>\n",
       "      <td>-0.009114</td>\n",
       "      <td>0.589525</td>\n",
       "    </tr>\n",
       "    <tr>\n",
       "      <th>guests_included</th>\n",
       "      <td>0.304780</td>\n",
       "      <td>0.457009</td>\n",
       "      <td>0.460512</td>\n",
       "      <td>1.000000</td>\n",
       "      <td>-0.001659</td>\n",
       "      <td>-0.018637</td>\n",
       "      <td>0.392875</td>\n",
       "    </tr>\n",
       "    <tr>\n",
       "      <th>minimum_nights</th>\n",
       "      <td>0.006358</td>\n",
       "      <td>0.011957</td>\n",
       "      <td>0.002670</td>\n",
       "      <td>-0.001659</td>\n",
       "      <td>1.000000</td>\n",
       "      <td>0.003161</td>\n",
       "      <td>0.017297</td>\n",
       "    </tr>\n",
       "    <tr>\n",
       "      <th>maximum_nights</th>\n",
       "      <td>-0.015322</td>\n",
       "      <td>-0.008591</td>\n",
       "      <td>-0.009114</td>\n",
       "      <td>-0.018637</td>\n",
       "      <td>0.003161</td>\n",
       "      <td>1.000000</td>\n",
       "      <td>-0.003336</td>\n",
       "    </tr>\n",
       "    <tr>\n",
       "      <th>price</th>\n",
       "      <td>0.516424</td>\n",
       "      <td>0.627720</td>\n",
       "      <td>0.589525</td>\n",
       "      <td>0.392875</td>\n",
       "      <td>0.017297</td>\n",
       "      <td>-0.003336</td>\n",
       "      <td>1.000000</td>\n",
       "    </tr>\n",
       "  </tbody>\n",
       "</table>\n",
       "</div>"
      ],
      "text/plain": [
       "                 bathrooms  bedrooms      beds  guests_included  \\\n",
       "bathrooms         1.000000  0.610937  0.532838         0.304780   \n",
       "bedrooms          0.610937  1.000000  0.753167         0.457009   \n",
       "beds              0.532838  0.753167  1.000000         0.460512   \n",
       "guests_included   0.304780  0.457009  0.460512         1.000000   \n",
       "minimum_nights    0.006358  0.011957  0.002670        -0.001659   \n",
       "maximum_nights   -0.015322 -0.008591 -0.009114        -0.018637   \n",
       "price             0.516424  0.627720  0.589525         0.392875   \n",
       "\n",
       "                 minimum_nights  maximum_nights     price  \n",
       "bathrooms              0.006358       -0.015322  0.516424  \n",
       "bedrooms               0.011957       -0.008591  0.627720  \n",
       "beds                   0.002670       -0.009114  0.589525  \n",
       "guests_included       -0.001659       -0.018637  0.392875  \n",
       "minimum_nights         1.000000        0.003161  0.017297  \n",
       "maximum_nights         0.003161        1.000000 -0.003336  \n",
       "price                  0.017297       -0.003336  1.000000  "
      ]
     },
     "execution_count": 28,
     "metadata": {},
     "output_type": "execute_result"
    }
   ],
   "source": [
    "#create a table with amenities details and find out correlation between them\n",
    "df_amenities=listing_df[['bathrooms', 'bedrooms', 'beds','guests_included',\n",
    "       'minimum_nights', 'maximum_nights','price']]\n",
    "\n",
    "corr_amenities=df_amenities.corr()\n",
    "corr_amenities"
   ]
  },
  {
   "cell_type": "code",
   "execution_count": 29,
   "metadata": {},
   "outputs": [
    {
     "data": {
      "text/html": [
       "<div>\n",
       "<style scoped>\n",
       "    .dataframe tbody tr th:only-of-type {\n",
       "        vertical-align: middle;\n",
       "    }\n",
       "\n",
       "    .dataframe tbody tr th {\n",
       "        vertical-align: top;\n",
       "    }\n",
       "\n",
       "    .dataframe thead th {\n",
       "        text-align: right;\n",
       "    }\n",
       "</style>\n",
       "<table border=\"1\" class=\"dataframe\">\n",
       "  <thead>\n",
       "    <tr style=\"text-align: right;\">\n",
       "      <th></th>\n",
       "      <th>price</th>\n",
       "      <th>id</th>\n",
       "    </tr>\n",
       "    <tr>\n",
       "      <th>room_type</th>\n",
       "      <th></th>\n",
       "      <th></th>\n",
       "    </tr>\n",
       "  </thead>\n",
       "  <tbody>\n",
       "    <tr>\n",
       "      <th>Entire home/apt</th>\n",
       "      <td>155.843369</td>\n",
       "      <td>2541</td>\n",
       "    </tr>\n",
       "    <tr>\n",
       "      <th>Private room</th>\n",
       "      <td>75.044828</td>\n",
       "      <td>1160</td>\n",
       "    </tr>\n",
       "    <tr>\n",
       "      <th>Shared room</th>\n",
       "      <td>47.547009</td>\n",
       "      <td>117</td>\n",
       "    </tr>\n",
       "  </tbody>\n",
       "</table>\n",
       "</div>"
      ],
      "text/plain": [
       "                      price    id\n",
       "room_type                        \n",
       "Entire home/apt  155.843369  2541\n",
       "Private room      75.044828  1160\n",
       "Shared room       47.547009   117"
      ]
     },
     "execution_count": 29,
     "metadata": {},
     "output_type": "execute_result"
    }
   ],
   "source": [
    "#Checking price at room type level\n",
    "listing_df.groupby('room_type').agg({'price':'mean', 'id':'count'})"
   ]
  },
  {
   "cell_type": "code",
   "execution_count": 30,
   "metadata": {},
   "outputs": [
    {
     "data": {
      "text/html": [
       "<div>\n",
       "<style scoped>\n",
       "    .dataframe tbody tr th:only-of-type {\n",
       "        vertical-align: middle;\n",
       "    }\n",
       "\n",
       "    .dataframe tbody tr th {\n",
       "        vertical-align: top;\n",
       "    }\n",
       "\n",
       "    .dataframe thead th {\n",
       "        text-align: right;\n",
       "    }\n",
       "</style>\n",
       "<table border=\"1\" class=\"dataframe\">\n",
       "  <thead>\n",
       "    <tr style=\"text-align: right;\">\n",
       "      <th></th>\n",
       "      <th>price</th>\n",
       "      <th>id</th>\n",
       "    </tr>\n",
       "    <tr>\n",
       "      <th>bed_type</th>\n",
       "      <th></th>\n",
       "      <th></th>\n",
       "    </tr>\n",
       "  </thead>\n",
       "  <tbody>\n",
       "    <tr>\n",
       "      <th>Airbed</th>\n",
       "      <td>73.962963</td>\n",
       "      <td>27</td>\n",
       "    </tr>\n",
       "    <tr>\n",
       "      <th>Couch</th>\n",
       "      <td>64.307692</td>\n",
       "      <td>13</td>\n",
       "    </tr>\n",
       "    <tr>\n",
       "      <th>Futon</th>\n",
       "      <td>72.824324</td>\n",
       "      <td>74</td>\n",
       "    </tr>\n",
       "    <tr>\n",
       "      <th>Pull-out Sofa</th>\n",
       "      <td>77.276596</td>\n",
       "      <td>47</td>\n",
       "    </tr>\n",
       "    <tr>\n",
       "      <th>Real Bed</th>\n",
       "      <td>130.368882</td>\n",
       "      <td>3657</td>\n",
       "    </tr>\n",
       "  </tbody>\n",
       "</table>\n",
       "</div>"
      ],
      "text/plain": [
       "                    price    id\n",
       "bed_type                       \n",
       "Airbed          73.962963    27\n",
       "Couch           64.307692    13\n",
       "Futon           72.824324    74\n",
       "Pull-out Sofa   77.276596    47\n",
       "Real Bed       130.368882  3657"
      ]
     },
     "execution_count": 30,
     "metadata": {},
     "output_type": "execute_result"
    }
   ],
   "source": [
    "#Checking price at bed type level\n",
    "listing_df.groupby('bed_type').agg({'price':'mean', 'id':'count'})"
   ]
  },
  {
   "cell_type": "markdown",
   "metadata": {},
   "source": [
    "# 5. Analyzing the data and answering key questions"
   ]
  },
  {
   "cell_type": "markdown",
   "metadata": {},
   "source": [
    "### 1. Does price have any seasonality effect?"
   ]
  },
  {
   "cell_type": "code",
   "execution_count": 31,
   "metadata": {},
   "outputs": [
    {
     "data": {
      "text/plain": [
       "<matplotlib.lines.Line2D at 0x260ac6f4898>"
      ]
     },
     "execution_count": 31,
     "metadata": {},
     "output_type": "execute_result"
    },
    {
     "data": {
      "image/png": "[encoded data removed]",
      "text/plain": [
       "<Figure size 432x288 with 1 Axes>"
      ]
     },
     "metadata": {
      "needs_background": "light"
     },
     "output_type": "display_data"
    }
   ],
   "source": [
    "month_price_listing=calendar_df.groupby('month')['price'].mean()\n",
    "month_price_listing.plot(kind=\"bar\");\n",
    "plt.xlabel('month')\n",
    "plt.ylabel('Average price / cost')\n",
    "plt.title(\"Average price charged each month\")\n",
    "plt.axhline(month_price_listing.mean(),color='r',linestyle='--')"
   ]
  },
  {
   "cell_type": "markdown",
   "metadata": {},
   "source": [
    "### Observation:<br>\n",
    "In June and December prices are relatively high. Our hypothesis would be that these months are for summer vacation and christmas, hence, the prices are higher than usual. On the other hand, prices in Q1 are significantly lower than the average for the entire year."
   ]
  },
  {
   "cell_type": "markdown",
   "metadata": {},
   "source": [
    "### 2. Does price fluctuate based on the day of the week (weekdays vs weekend)?"
   ]
  },
  {
   "cell_type": "code",
   "execution_count": 32,
   "metadata": {},
   "outputs": [
    {
     "data": {
      "image/png": "[encoded data removed]",
      "text/plain": [
       "<Figure size 432x288 with 1 Axes>"
      ]
     },
     "metadata": {
      "needs_background": "light"
     },
     "output_type": "display_data"
    }
   ],
   "source": [
    "#Checking if price is impacted or decided based on the day of the week i.e. weekday or weekend\n",
    "calendar_df['weekday'] = pd.DatetimeIndex(calendar_df['date']).weekday\n",
    "calendar_df.groupby(['weekday'])[['price']].mean().plot(kind=\"bar\");"
   ]
  },
  {
   "cell_type": "markdown",
   "metadata": {},
   "source": [
    "### Observation:\n",
    "\n",
    "From this chart, we can see that Friday and Saturday are the highest priced days in a week since tourists will prefer weekend for vacation over weekdays. Also, they would prefer coming back to their hometown on Sunday, hence price for Sunday is relatively on the lower side."
   ]
  },
  {
   "cell_type": "markdown",
   "metadata": {},
   "source": [
    "### 3. Do certain amenities influence the price factor?"
   ]
  },
  {
   "cell_type": "code",
   "execution_count": 33,
   "metadata": {},
   "outputs": [
    {
     "data": {
      "text/html": [
       "<div>\n",
       "<style scoped>\n",
       "    .dataframe tbody tr th:only-of-type {\n",
       "        vertical-align: middle;\n",
       "    }\n",
       "\n",
       "    .dataframe tbody tr th {\n",
       "        vertical-align: top;\n",
       "    }\n",
       "\n",
       "    .dataframe thead th {\n",
       "        text-align: right;\n",
       "    }\n",
       "</style>\n",
       "<table border=\"1\" class=\"dataframe\">\n",
       "  <thead>\n",
       "    <tr style=\"text-align: right;\">\n",
       "      <th></th>\n",
       "      <th>bathrooms</th>\n",
       "      <th>bedrooms</th>\n",
       "      <th>beds</th>\n",
       "      <th>guests_included</th>\n",
       "      <th>minimum_nights</th>\n",
       "      <th>maximum_nights</th>\n",
       "      <th>price</th>\n",
       "    </tr>\n",
       "  </thead>\n",
       "  <tbody>\n",
       "    <tr>\n",
       "      <th>bathrooms</th>\n",
       "      <td>1.000000</td>\n",
       "      <td>0.610937</td>\n",
       "      <td>0.532838</td>\n",
       "      <td>0.304780</td>\n",
       "      <td>0.006358</td>\n",
       "      <td>-0.015322</td>\n",
       "      <td>0.516424</td>\n",
       "    </tr>\n",
       "    <tr>\n",
       "      <th>bedrooms</th>\n",
       "      <td>0.610937</td>\n",
       "      <td>1.000000</td>\n",
       "      <td>0.753167</td>\n",
       "      <td>0.457009</td>\n",
       "      <td>0.011957</td>\n",
       "      <td>-0.008591</td>\n",
       "      <td>0.627720</td>\n",
       "    </tr>\n",
       "    <tr>\n",
       "      <th>beds</th>\n",
       "      <td>0.532838</td>\n",
       "      <td>0.753167</td>\n",
       "      <td>1.000000</td>\n",
       "      <td>0.460512</td>\n",
       "      <td>0.002670</td>\n",
       "      <td>-0.009114</td>\n",
       "      <td>0.589525</td>\n",
       "    </tr>\n",
       "    <tr>\n",
       "      <th>guests_included</th>\n",
       "      <td>0.304780</td>\n",
       "      <td>0.457009</td>\n",
       "      <td>0.460512</td>\n",
       "      <td>1.000000</td>\n",
       "      <td>-0.001659</td>\n",
       "      <td>-0.018637</td>\n",
       "      <td>0.392875</td>\n",
       "    </tr>\n",
       "    <tr>\n",
       "      <th>minimum_nights</th>\n",
       "      <td>0.006358</td>\n",
       "      <td>0.011957</td>\n",
       "      <td>0.002670</td>\n",
       "      <td>-0.001659</td>\n",
       "      <td>1.000000</td>\n",
       "      <td>0.003161</td>\n",
       "      <td>0.017297</td>\n",
       "    </tr>\n",
       "    <tr>\n",
       "      <th>maximum_nights</th>\n",
       "      <td>-0.015322</td>\n",
       "      <td>-0.008591</td>\n",
       "      <td>-0.009114</td>\n",
       "      <td>-0.018637</td>\n",
       "      <td>0.003161</td>\n",
       "      <td>1.000000</td>\n",
       "      <td>-0.003336</td>\n",
       "    </tr>\n",
       "    <tr>\n",
       "      <th>price</th>\n",
       "      <td>0.516424</td>\n",
       "      <td>0.627720</td>\n",
       "      <td>0.589525</td>\n",
       "      <td>0.392875</td>\n",
       "      <td>0.017297</td>\n",
       "      <td>-0.003336</td>\n",
       "      <td>1.000000</td>\n",
       "    </tr>\n",
       "  </tbody>\n",
       "</table>\n",
       "</div>"
      ],
      "text/plain": [
       "                 bathrooms  bedrooms      beds  guests_included  \\\n",
       "bathrooms         1.000000  0.610937  0.532838         0.304780   \n",
       "bedrooms          0.610937  1.000000  0.753167         0.457009   \n",
       "beds              0.532838  0.753167  1.000000         0.460512   \n",
       "guests_included   0.304780  0.457009  0.460512         1.000000   \n",
       "minimum_nights    0.006358  0.011957  0.002670        -0.001659   \n",
       "maximum_nights   -0.015322 -0.008591 -0.009114        -0.018637   \n",
       "price             0.516424  0.627720  0.589525         0.392875   \n",
       "\n",
       "                 minimum_nights  maximum_nights     price  \n",
       "bathrooms              0.006358       -0.015322  0.516424  \n",
       "bedrooms               0.011957       -0.008591  0.627720  \n",
       "beds                   0.002670       -0.009114  0.589525  \n",
       "guests_included       -0.001659       -0.018637  0.392875  \n",
       "minimum_nights         1.000000        0.003161  0.017297  \n",
       "maximum_nights         0.003161        1.000000 -0.003336  \n",
       "price                  0.017297       -0.003336  1.000000  "
      ]
     },
     "execution_count": 33,
     "metadata": {},
     "output_type": "execute_result"
    }
   ],
   "source": [
    "#Checking which amenities are influencing the price factor\n",
    "df_amenities=listing_df[['bathrooms', 'bedrooms', 'beds','guests_included',\n",
    "       'minimum_nights', 'maximum_nights','price']]\n",
    "\n",
    "corr_amenities=df_amenities.corr()\n",
    "corr_amenities"
   ]
  },
  {
   "cell_type": "markdown",
   "metadata": {},
   "source": [
    "### Observation:\n",
    "\n",
    "Bedrooms, beds and bathrooms tend to have positive realtionship with price whereas minimum or maximum nights offered amenities do not impact/influence price as much."
   ]
  }
 ],
 "metadata": {
  "kernelspec": {
   "display_name": "Python 3",
   "language": "python",
   "name": "python3"
  },
  "language_info": {
   "codemirror_mode": {
    "name": "ipython",
    "version": 3
   },
   "file_extension": ".py",
   "mimetype": "text/x-python",
   "name": "python",
   "nbconvert_exporter": "python",
   "pygments_lexer": "ipython3",
   "version": "3.7.0"
  }
 },
 "nbformat": 4,
 "nbformat_minor": 2
}
